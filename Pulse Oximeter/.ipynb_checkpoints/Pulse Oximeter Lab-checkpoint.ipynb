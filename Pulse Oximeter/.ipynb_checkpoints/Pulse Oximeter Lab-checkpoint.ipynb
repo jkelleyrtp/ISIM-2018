{
 "cells": [
  {
   "cell_type": "code",
   "execution_count": 1,
   "metadata": {},
   "outputs": [
    {
     "name": "stderr",
     "output_type": "stream",
     "text": [
      "/usr/local/Cellar/python/3.6.4_2/Frameworks/Python.framework/Versions/3.6/lib/python3.6/importlib/_bootstrap.py:219: RuntimeWarning: numpy.dtype size changed, may indicate binary incompatibility. Expected 96, got 88\n",
      "  return f(*args, **kwds)\n"
     ]
    }
   ],
   "source": [
    "import matplotlib.pyplot as plt\n",
    "import numpy as np\n",
    "import pandas as pd"
   ]
  },
  {
   "cell_type": "code",
   "execution_count": 2,
   "metadata": {},
   "outputs": [],
   "source": [
    "def bode_plot(file_name):\n",
    "    data = pd.read_csv(file_name, skiprows = 20)\n",
    "    w = data['Frequency (Hz)']\n",
    "    magnitude = data['Channel 2 Magnitude (dB)']\n",
    "    phase = data['Channel 2 Phase (°)']\n",
    "    \n",
    "    fig = plt.figure(dpi = 150)\n",
    "    ax1 = plt.subplot(211)\n",
    "    plt.semilogx(w, magnitude)    # Bode magnitude plot\n",
    "    plt.title(\"Bode Plot for complete blood pressure circuit\")\n",
    "    plt.ylabel(\"Magnitude (dB)\")\n",
    "    \n",
    "    ax2 = plt.subplot(212)\n",
    "    plt.semilogx(w, phase)  # Bode phase plot\n",
    "    plt.ylabel(\"Phase (°)\")    \n",
    "    plt.subplots_adjust(wspace=0, hspace=.05)\n",
    "    plt.xlabel(\"Frequency (Hz)\")\n",
    "    plt.show()\n"
   ]
  },
  {
   "cell_type": "code",
   "execution_count": null,
   "metadata": {},
   "outputs": [],
   "source": []
  }
 ],
 "metadata": {
  "kernelspec": {
   "display_name": "Python 3",
   "language": "python",
   "name": "python3"
  },
  "language_info": {
   "codemirror_mode": {
    "name": "ipython",
    "version": 3
   },
   "file_extension": ".py",
   "mimetype": "text/x-python",
   "name": "python",
   "nbconvert_exporter": "python",
   "pygments_lexer": "ipython3",
   "version": "3.6.4"
  }
 },
 "nbformat": 4,
 "nbformat_minor": 2
}
