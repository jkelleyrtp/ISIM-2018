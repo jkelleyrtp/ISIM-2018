{
 "cells": [
  {
   "cell_type": "markdown",
   "metadata": {},
   "source": [
    "# Strain Gauge Lab\n",
    "### 9.18.18   |   Jonathan Kelley   |  ISIM\n"
   ]
  },
  {
   "cell_type": "markdown",
   "metadata": {},
   "source": [
    "Our goal for this lab is to use a strain gauge to create a simple scale circuit. \n",
    "\n",
    "We will learn how to use a voltage amplifier and capacitors to collect data from a strain sensor. \n",
    "We will also develop a calibration curve for our scale based on experimental data."
   ]
  },
  {
   "cell_type": "code",
   "execution_count": 4,
   "metadata": {},
   "outputs": [],
   "source": [
    "# Basic imports\n",
    "import warnings\n",
    "warnings.filterwarnings('ignore')\n",
    "\n",
    "import pandas as pd\n",
    "import numpy as np\n",
    "import matplotlib.pyplot as plt\n",
    "import seaborn as sb\n",
    "from scipy import stats\n",
    "\n",
    "%matplotlib inline"
   ]
  },
  {
   "cell_type": "markdown",
   "metadata": {},
   "source": [
    "### Importing and post processing data\n",
    "\n",
    "To make data collection easier, I added weight after weight in a single run. We'll have to use some estimation and averaging to pull the right data out.\n",
    "\n",
    "Let's load and plot the raw data."
   ]
  },
  {
   "cell_type": "code",
   "execution_count": null,
   "metadata": {},
   "outputs": [],
   "source": [
    "# Load the Wavegen Data\n",
    "file = \"PotentiometerPendulum.csv\"\n",
    "data = pd.read_csv(file, skiprows = 4)"
   ]
  }
 ],
 "metadata": {
  "kernelspec": {
   "display_name": "Python 3",
   "language": "python",
   "name": "python3"
  },
  "language_info": {
   "codemirror_mode": {
    "name": "ipython",
    "version": 3
   },
   "file_extension": ".py",
   "mimetype": "text/x-python",
   "name": "python",
   "nbconvert_exporter": "python",
   "pygments_lexer": "ipython3",
   "version": "3.6.4"
  }
 },
 "nbformat": 4,
 "nbformat_minor": 2
}
